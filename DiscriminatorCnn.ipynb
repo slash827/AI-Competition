{
 "cells": [
  {
   "cell_type": "code",
   "execution_count": 46,
   "id": "80ab1e07",
   "metadata": {},
   "outputs": [
    {
     "name": "stdout",
     "output_type": "stream",
     "text": [
      "(50000, 32, 32, 3) (50000,)\n",
      "(10000, 32, 32, 3) (10000,)\n",
      "clean_label -; 50000\n",
      "random_label2 -; 50000\n",
      "worst_label -; 50000\n",
      "Shape before one-hot encoding train_labels:  (50000,)\n",
      "Shape before one-hot encoding X_train:  (50000, 32, 32, 3)\n",
      "Shape after one-hot encoding:  (50000, 10)\n"
     ]
    }
   ],
   "source": [
    "# !pip install tensorflow-datasets\n",
    "import numpy as np\n",
    "import matplotlib.pyplot as plt\n",
    "import tensorflow as tf\n",
    "import tensorflow_datasets as tfds\n",
    "import torch\n",
    "import torchvision\n",
    "import torch.nn as nn\n",
    "from torch.utils.data import random_split\n",
    "from torch.utils.data.dataloader import DataLoader\n",
    "from keras.utils import np_utils\n",
    "from tensorflow.keras.callbacks import EarlyStopping, ModelCheckpoint\n",
    "\n",
    "model_desc = 'discriminator_org_best_using_cnn_classification'\n",
    "\n",
    "noise_file = np.load('./data/CIFAR-10_human_ordered.npy', allow_pickle=True)\n",
    "clean_label = noise_file.item().get('clean_label')\n",
    "worst_label = noise_file.item().get('worse_label')\n",
    "aggre_label = noise_file.item().get('aggre_label')\n",
    "random_label1 = noise_file.item().get('random_label1')\n",
    "random_label2 = noise_file.item().get('random_label2')\n",
    "random_label3 = noise_file.item().get('random_label3')\n",
    "\n",
    "classess_name = {0: 'airplane',\n",
    " 1:'automobile',\n",
    " 2:'bird',\n",
    " 3:'cat',\n",
    " 4:'deer',\n",
    " 5:'dog',\n",
    " 6:'frog',\n",
    " 7:'horse',\n",
    " 8:'ship',\n",
    " 9:'truck'}\n",
    "\n",
    "batch_size=128\n",
    "input_size = 3*32*32\n",
    "output_size = 10\n",
    "torch.manual_seed(43)\n",
    "val_size = 5000\n",
    "train_size = 50000 - val_size\n",
    "\n",
    "# The noisy label matches with following tensorflow dataloader\n",
    "train_ds, test_ds = tfds.load('cifar10', split=['train','test'], as_supervised=True, batch_size = -1)\n",
    "# train_loader = DataLoader(train_ds, batch_size, shuffle=True, num_workers=4, pin_memory=True)\n",
    "# test_loader = DataLoader(test_ds, batch_size*2, num_workers=4, pin_memory=True)\n",
    "train_images, train_labels = tfds.as_numpy(train_ds) \n",
    "test_images, test_labels = tfds.as_numpy(test_ds) \n",
    "# You may want to replace train_labels by CIFAR-N noisy label sets\n",
    "print(train_images.shape, train_labels.shape)\n",
    "print(test_images.shape, test_labels.shape)\n",
    "\n",
    "\n",
    "\n",
    "# # building the input vector from the 32x32 pixels\n",
    "X_train = train_images.reshape(train_images.shape[0], 32, 32, 3)\n",
    "X_test = test_images.reshape(test_images.shape[0], 32, 32, 3)\n",
    "X_train = X_train.astype('float32')\n",
    "X_test = X_test.astype('float32')\n",
    "\n",
    "# normalizing the data to help with the training\n",
    "X_train /= 255\n",
    "X_test /= 255\n",
    "print('clean_label -;', len(clean_label))\n",
    "print('random_label2 -;', len(random_label2))\n",
    "print('worst_label -;', len(worst_label))\n",
    "# one-hot encoding using keras' numpy-related utilities\n",
    "n_classes = 10\n",
    "print(\"Shape before one-hot encoding train_labels: \", train_labels.shape)\n",
    "print(\"Shape before one-hot encoding X_train: \", X_train.shape)\n",
    "Y_train = np_utils.to_categorical(train_labels, n_classes)\n",
    "Y_test = np_utils.to_categorical(test_labels, n_classes)\n",
    "print(\"Shape after one-hot encoding: \", Y_train.shape)\n",
    "\n"
   ]
  },
  {
   "cell_type": "code",
   "execution_count": 40,
   "id": "1a2e9e74",
   "metadata": {},
   "outputs": [
    {
     "name": "stdout",
     "output_type": "stream",
     "text": [
      "Model: \"sequential\"\n",
      "_________________________________________________________________\n",
      "Layer (type)                 Output Shape              Param #   \n",
      "=================================================================\n",
      "conv2d (Conv2D)              (None, 32, 32, 50)        1400      \n",
      "_________________________________________________________________\n",
      "conv2d_1 (Conv2D)            (None, 32, 32, 75)        33825     \n",
      "_________________________________________________________________\n",
      "max_pooling2d (MaxPooling2D) (None, 16, 16, 75)        0         \n",
      "_________________________________________________________________\n",
      "dropout (Dropout)            (None, 16, 16, 75)        0         \n",
      "_________________________________________________________________\n",
      "conv2d_2 (Conv2D)            (None, 16, 16, 125)       84500     \n",
      "_________________________________________________________________\n",
      "max_pooling2d_1 (MaxPooling2 (None, 8, 8, 125)         0         \n",
      "_________________________________________________________________\n",
      "dropout_1 (Dropout)          (None, 8, 8, 125)         0         \n",
      "_________________________________________________________________\n",
      "flatten (Flatten)            (None, 8000)              0         \n",
      "_________________________________________________________________\n",
      "dense (Dense)                (None, 500)               4000500   \n",
      "_________________________________________________________________\n",
      "dropout_2 (Dropout)          (None, 500)               0         \n",
      "_________________________________________________________________\n",
      "dense_1 (Dense)              (None, 250)               125250    \n",
      "_________________________________________________________________\n",
      "dropout_3 (Dropout)          (None, 250)               0         \n",
      "_________________________________________________________________\n",
      "dense_2 (Dense)              (None, 10)                2510      \n",
      "=================================================================\n",
      "Total params: 4,247,985\n",
      "Trainable params: 4,247,985\n",
      "Non-trainable params: 0\n",
      "_________________________________________________________________\n"
     ]
    }
   ],
   "source": [
    "from keras.datasets import cifar10\n",
    "from keras.models import Sequential\n",
    "from keras.layers import Dense, Dropout, Conv2D, MaxPool2D, Flatten, ZeroPadding2D\n",
    "from keras.utils import np_utils\n",
    "# building a linear stack of layers with the sequential model\n",
    "cnn_classifier = Sequential()\n",
    "\n",
    "# convolutional layer\n",
    "cnn_classifier.add(Conv2D(50, kernel_size=(3,3), strides=(1,1), padding='same', activation='relu', input_shape=(32, 32, 3)))\n",
    "\n",
    "# convolutional layer\n",
    "cnn_classifier.add(Conv2D(75, kernel_size=(3,3), strides=(1,1), padding='same', activation='relu'))\n",
    "cnn_classifier.add(MaxPool2D(pool_size=(2,2)))\n",
    "cnn_classifier.add(Dropout(0.25))\n",
    "\n",
    "cnn_classifier.add(Conv2D(125, kernel_size=(3,3), strides=(1,1), padding='same', activation='relu'))\n",
    "cnn_classifier.add(MaxPool2D(pool_size=(2,2)))\n",
    "cnn_classifier.add(Dropout(0.25))\n",
    "\n",
    "# flatten output of conv\n",
    "cnn_classifier.add(Flatten())\n",
    "\n",
    "# hidden layer\n",
    "cnn_classifier.add(Dense(500, activation='relu'))\n",
    "cnn_classifier.add(Dropout(0.4))\n",
    "cnn_classifier.add(Dense(250, activation='relu'))\n",
    "cnn_classifier.add(Dropout(0.3))\n",
    "# output layer\n",
    "cnn_classifier.add(Dense(10, activation='softmax'))\n",
    "\n",
    "# compiling the sequential model\n",
    "cnn_classifier.compile(loss='categorical_crossentropy', metrics=['accuracy'], optimizer='adam')\n",
    "\n",
    "# training the model for 10 epochs\n",
    "# cnn_classifier.fit(X_train, Y_train, batch_size=128, epochs=75, validation_data=(X_test, Y_test))\n",
    "cnn_classifier.summary()"
   ]
  },
  {
   "cell_type": "code",
   "execution_count": null,
   "id": "b4d85006",
   "metadata": {},
   "outputs": [],
   "source": [
    "from keras.models import load_model\n",
    "from pickle import dump, load\n",
    "\n",
    "#creates a HDF5 file 'cnn_classifier.h5'\n",
    "cnn_classifier = load_model('cnn_classifier_75ep.h5')  \n",
    "cnn_classifier.summary()"
   ]
  },
  {
   "cell_type": "code",
   "execution_count": 31,
   "id": "12ac289e",
   "metadata": {},
   "outputs": [
    {
     "name": "stdout",
     "output_type": "stream",
     "text": [
      "(1, 32, 32, 3)\n",
      "LBL:  [1, 9, 8, 0, 3]\n",
      "LBL_names:  ['automobile', 'truck', 'ship', 'airplane', 'cat']\n"
     ]
    },
    {
     "data": {
      "image/png": "[encoded data removed]",
      "text/plain": [
       "<Figure size 432x288 with 1 Axes>"
      ]
     },
     "metadata": {
      "needs_background": "light"
     },
     "output_type": "display_data"
    }
   ],
   "source": [
    "ind = 98\n",
    "img = X_test[ind].reshape(1, X_test[0].shape[0], X_test[0].shape[1], X_test[0].shape[2])\n",
    "\n",
    "plt.imshow(X_test[ind])\n",
    "print(img.shape)\n",
    "probability = cnn_classifier.predict(img)\n",
    "pred_org = list(probability[0])\n",
    "preds = sorted(pred_org, reverse=True)[:5]\n",
    "\n",
    "labels = [pred_org.index(pred) for pred in preds]\n",
    "labels_names = [classess_name[i] for i in labels]\n",
    "print(\"LBL: \", labels)\n",
    "print(\"LBL_names: \", labels_names)"
   ]
  },
  {
   "cell_type": "code",
   "execution_count": 40,
   "id": "7cf925bc",
   "metadata": {},
   "outputs": [],
   "source": [
    "preds_cnn = [cnn_classifier.predict(img.reshape(1, img.shape[0], img.shape[1], img.shape[2])) for img in X_train]"
   ]
  },
  {
   "cell_type": "code",
   "execution_count": 50,
   "id": "a03f8678",
   "metadata": {},
   "outputs": [],
   "source": [
    "import pickle\n",
    "with open('cnn_predictions.pickle', 'wb') as handle:\n",
    "    pickle.dump(preds_cnn, handle)"
   ]
  },
  {
   "cell_type": "code",
   "execution_count": 21,
   "id": "6f5674f2",
   "metadata": {},
   "outputs": [
    {
     "data": {
      "text/plain": [
       "7"
      ]
     },
     "execution_count": 21,
     "metadata": {},
     "output_type": "execute_result"
    }
   ],
   "source": [
    "import pickle\n",
    "with open('cnn_predictions.pickle', 'rb') as handle:\n",
    "    b = pickle.load(handle)"
   ]
  },
  {
   "cell_type": "code",
   "execution_count": 23,
   "id": "70dae35a",
   "metadata": {},
   "outputs": [],
   "source": [
    "import pickle\n",
    "with open('cnn_final_labels.pickle', 'wb') as handle:\n",
    "    pickle.dump(bb, handle)\n"
   ]
  },
  {
   "cell_type": "code",
   "execution_count": 47,
   "id": "d92c05de",
   "metadata": {},
   "outputs": [],
   "source": [
    "import pickle\n",
    "with open('cnn_final_labels.pickle', 'rb') as handle:\n",
    "    b = pickle.load(handle)"
   ]
  },
  {
   "cell_type": "code",
   "execution_count": 33,
   "id": "c0d4758c",
   "metadata": {},
   "outputs": [
    {
     "name": "stdout",
     "output_type": "stream",
     "text": [
      "TrainLabel: frog  CleanLabel: frog  random_label1: cat  worst_label: cat\n"
     ]
    },
    {
     "data": {
      "image/png": "[encoded data removed]",
      "text/plain": [
       "<Figure size 432x288 with 1 Axes>"
      ]
     },
     "metadata": {
      "needs_background": "light"
     },
     "output_type": "display_data"
    }
   ],
   "source": [
    "ind=9\n",
    "plt.imshow(X_train[ind])\n",
    "\n",
    "def plot_labels(im_ind):\n",
    "    print(\"TrainLabel:\", classess_name[list(Y_train[im_ind]).index(1)], \" CleanLabel:\", classess_name[clean_label[im_ind]], \" random_label1:\", classess_name[random_label1[im_ind]], \" worst_label:\", classess_name[worst_label[im_ind]])\n",
    "\n",
    "plot_labels(ind)"
   ]
  },
  {
   "cell_type": "code",
   "execution_count": 105,
   "id": "8d483d8b",
   "metadata": {},
   "outputs": [
    {
     "name": "stdout",
     "output_type": "stream",
     "text": [
      "Model: \"model_2\"\n",
      "__________________________________________________________________________________________________\n",
      "Layer (type)                    Output Shape         Param #     Connected to                     \n",
      "==================================================================================================\n",
      "image (InputLayer)              [(None, 32, 32, 3)]  0                                            \n",
      "__________________________________________________________________________________________________\n",
      "conv2d_13 (Conv2D)              (None, 32, 32, 32)   896         image[0][0]                      \n",
      "__________________________________________________________________________________________________\n",
      "max_pooling2d_12 (MaxPooling2D) (None, 16, 16, 32)   0           conv2d_13[0][0]                  \n",
      "__________________________________________________________________________________________________\n",
      "conv2d_14 (Conv2D)              (None, 16, 16, 64)   32832       max_pooling2d_12[0][0]           \n",
      "__________________________________________________________________________________________________\n",
      "max_pooling2d_13 (MaxPooling2D) (None, 8, 8, 64)     0           conv2d_14[0][0]                  \n",
      "__________________________________________________________________________________________________\n",
      "conv2d_15 (Conv2D)              (None, 8, 8, 64)     65600       max_pooling2d_13[0][0]           \n",
      "__________________________________________________________________________________________________\n",
      "max_pooling2d_14 (MaxPooling2D) (None, 4, 4, 64)     0           conv2d_15[0][0]                  \n",
      "__________________________________________________________________________________________________\n",
      "conv2d_16 (Conv2D)              (None, 4, 4, 128)    73856       max_pooling2d_14[0][0]           \n",
      "__________________________________________________________________________________________________\n",
      "max_pooling2d_15 (MaxPooling2D) (None, 2, 2, 128)    0           conv2d_16[0][0]                  \n",
      "__________________________________________________________________________________________________\n",
      "conv2d_17 (Conv2D)              (None, 2, 2, 128)    65664       max_pooling2d_15[0][0]           \n",
      "__________________________________________________________________________________________________\n",
      "max_pooling2d_16 (MaxPooling2D) (None, 1, 1, 128)    0           conv2d_17[0][0]                  \n",
      "__________________________________________________________________________________________________\n",
      "dropout_6 (Dropout)             (None, 1, 1, 128)    0           max_pooling2d_16[0][0]           \n",
      "__________________________________________________________________________________________________\n",
      "flatten_5 (Flatten)             (None, 128)          0           dropout_6[0][0]                  \n",
      "__________________________________________________________________________________________________\n",
      "categorical_lbl (InputLayer)    [(None, 1)]          0                                            \n",
      "__________________________________________________________________________________________________\n",
      "dense_14 (Dense)                (None, 128)          16512       flatten_5[0][0]                  \n",
      "__________________________________________________________________________________________________\n",
      "dense_13 (Dense)                (None, 8)            16          categorical_lbl[0][0]            \n",
      "__________________________________________________________________________________________________\n",
      "flatten_6 (Flatten)             (None, 128)          0           dense_14[0][0]                   \n",
      "__________________________________________________________________________________________________\n",
      "concatenate_2 (Concatenate)     (None, 136)          0           dense_13[0][0]                   \n",
      "                                                                 flatten_6[0][0]                  \n",
      "__________________________________________________________________________________________________\n",
      "dense_15 (Dense)                (None, 64)           8768        concatenate_2[0][0]              \n",
      "__________________________________________________________________________________________________\n",
      "dense_16 (Dense)                (None, 32)           2080        dense_15[0][0]                   \n",
      "__________________________________________________________________________________________________\n",
      "dense_17 (Dense)                (None, 1)            33          dense_16[0][0]                   \n",
      "==================================================================================================\n",
      "Total params: 266,257\n",
      "Trainable params: 266,257\n",
      "Non-trainable params: 0\n",
      "__________________________________________________________________________________________________\n"
     ]
    }
   ],
   "source": [
    "from keras.models import Sequential\n",
    "from keras.layers.merge import concatenate\n",
    "from keras.models import Model\n",
    "from keras.layers import Dense, Dropout, BatchNormalization, Conv2D, MaxPool2D, Flatten, Embedding, Input, InputLayer\n",
    "from keras.utils import np_utils\n",
    "\n",
    "# building a linear stack of layers with the sequential model\n",
    "discriminator2 = Sequential()\n",
    "categorical_input = Input(shape=(1), name='categorical_lbl')\n",
    "dense01 = Dense(8, activation='relu')(categorical_input)\n",
    "\n",
    "inputL = Input(shape=(32, 32, 3), name='image')\n",
    "conv1 = Conv2D(32, (3, 3), strides=(1,1), padding='same', activation='relu')(inputL)\n",
    "maxP1 = MaxPool2D(pool_size=2)(conv1)\n",
    "conv2 = Conv2D(filters=64, kernel_size=4,  padding='same', activation='relu')(maxP1)\n",
    "maxP2 = MaxPool2D(pool_size=2)(conv2)\n",
    "conv3 = Conv2D(filters=64, kernel_size=4,  padding='same', activation='relu')(maxP2)\n",
    "maxP3 = MaxPool2D(pool_size=2)(conv3)\n",
    "conv4 = Conv2D(filters=128, kernel_size=3,  padding='same', activation='relu')(maxP3)\n",
    "maxP4 = MaxPool2D(pool_size=2)(conv4)\n",
    "conv5 = Conv2D(filters=128, kernel_size=2,  padding='same', activation='relu')(maxP4)\n",
    "maxP5 = MaxPool2D(pool_size=2)(conv5)\n",
    "do1 = Dropout(0.25)(maxP5)\n",
    "flt = Flatten()(do1)\n",
    "dense1 = Dense(128, activation='relu')(flt)\n",
    "flatten2 = Flatten()(dense1)\n",
    "merge = concatenate([dense01, flatten2])\n",
    "\n",
    "\n",
    "dense2 = Dense(64, activation='relu')(merge)\n",
    "dense3 = Dense(32, activation='relu')(dense2)\n",
    "output = Dense(1, activation='sigmoid')(dense3)\n",
    "\n",
    "discriminator2 = Model(inputs=[inputL, categorical_input], outputs=output)\n",
    "# compiling the sequential model\n",
    "discriminator2.compile(loss='binary_crossentropy', metrics=['accuracy'], optimizer='adam')\n",
    "discriminator2.summary()"
   ]
  },
  {
   "cell_type": "code",
   "execution_count": 48,
   "id": "1fc3aaa3",
   "metadata": {},
   "outputs": [
    {
     "name": "stdout",
     "output_type": "stream",
     "text": [
      "DONE!\n"
     ]
    }
   ],
   "source": [
    "New_Train_Data_i = []\n",
    "New_Train_Data_l = []\n",
    "New_Train_Label = []\n",
    "\n",
    "for i, data in enumerate(X_train):\n",
    "    img_data = X_train[i]\n",
    "    x_org = tf.stack(img_data)\n",
    "    y_clean =   b[i]\n",
    "    \n",
    "    past_noises = []\n",
    "    for noise in ['worse_label','aggre_label','random_label1','random_label2','random_label3']:\n",
    "        noise_label = noise_file.item().get(noise)[i]\n",
    "        if y_clean != noise_label and noise_label not in past_noises:\n",
    "            x = tf.stack(img_data)\n",
    "            y = noise_label\n",
    "            # balance with-:\n",
    "            New_Train_Label.append(0)\n",
    "            New_Train_Data_i.append(x_org)\n",
    "            New_Train_Data_l.append(y_clean)\n",
    "            past_noises.append(noise_label)\n",
    "            New_Train_Label.append(1)\n",
    "            New_Train_Data_i.append(x)\n",
    "            New_Train_Data_l.append(y)\n",
    "\n",
    "\n",
    "print(\"DONE!\")"
   ]
  },
  {
   "cell_type": "code",
   "execution_count": 49,
   "id": "3fc2ff9b",
   "metadata": {},
   "outputs": [
    {
     "data": {
      "text/plain": [
       "47872"
      ]
     },
     "execution_count": 49,
     "metadata": {},
     "output_type": "execute_result"
    }
   ],
   "source": [
    "len(New_Train_Label)"
   ]
  },
  {
   "cell_type": "code",
   "execution_count": 83,
   "id": "14483c72",
   "metadata": {},
   "outputs": [],
   "source": [
    "def create_discrimination_dataset(X_train, Y_train, X_test, Y_test):\n",
    "    New_Train_Data_i = []\n",
    "    New_Train_Data_l = []\n",
    "    New_Train_Label = []\n",
    "\n",
    "    with open('cnn_final_labels.pickle', 'rb') as handle:\n",
    "        cnn_labels = pickle.load(handle)\n",
    "    ii = 0\n",
    "    for i, data in enumerate(X_train):\n",
    "        img_data = X_train[i]\n",
    "        x_org = tf.stack(img_data)\n",
    "        y_clean =  cnn_labels[i] \n",
    "        past_noises = []\n",
    "        \n",
    "        for noise in ['worse_label', 'aggre_label', 'random_label1', 'random_label2', 'random_label3']:\n",
    "            noise_label = noise_file.item().get(noise)[i]\n",
    "            \n",
    "            if y_clean != noise_label:\n",
    "                ii = ii +1\n",
    "#                 print(y_clean, noise_label)\n",
    "            if y_clean != noise_label and noise_label not in past_noises:\n",
    "                x = tf.stack(img_data)\n",
    "                y = noise_label\n",
    "                # balance with-:\n",
    "                New_Train_Label.append(0)\n",
    "                New_Train_Data_i.append(x_org)\n",
    "                New_Train_Data_l.append(y_clean)\n",
    "                past_noises.append(noise_label)\n",
    "                New_Train_Label.append(1)\n",
    "                New_Train_Data_i.append(x)\n",
    "                New_Train_Data_l.append(y)\n",
    "    print(ii)\n",
    "    print(len(New_Train_Label))\n",
    "    print(\"Balance of labels : \", sum(New_Train_Label) / len(New_Train_Label))\n",
    "    TEST_SIZE = int(len(New_Train_Label) / 10)\n",
    "    print(\"TEST_SIZE: \", TEST_SIZE)\n",
    "    New_Train_Data_i = New_Train_Data_i[0:len(New_Train_Data_i) - TEST_SIZE]\n",
    "    New_Train_Data_l = New_Train_Data_l[0:len(New_Train_Data_l) - TEST_SIZE]\n",
    "    New_Train_Label = New_Train_Label[0:len(New_Train_Label) - TEST_SIZE]\n",
    "\n",
    "    New_Test_Data_i = New_Train_Data_i[(len(New_Train_Data_i) - TEST_SIZE):]\n",
    "    New_Test_Data_l = New_Train_Data_l[(len(New_Train_Data_l) - TEST_SIZE):]\n",
    "    New_Test_Label = New_Train_Label[(len(New_Train_Label) - TEST_SIZE):]\n",
    "\n",
    "    x_TrI = np.stack(New_Train_Data_i)\n",
    "    x_TrI = np.array(x_TrI)\n",
    "    x_TeI = np.stack(New_Test_Data_i)\n",
    "    x_TeI = np.array(x_TeI)\n",
    "\n",
    "    x_TrL = np.stack(New_Train_Data_l).reshape(len(New_Train_Data_l), 1)\n",
    "    x_TrL = np.array(x_TrL)\n",
    "    x_TeL = np.stack(New_Test_Data_l).reshape(len(New_Test_Data_l), 1)\n",
    "    x_TeL = np.array(x_TeL)\n",
    "\n",
    "\n",
    "    New_Train_Label = np.array(New_Train_Label)\n",
    "    New_Test_Label = np.array(New_Test_Label)\n",
    "    print(\"DONE!\")\n",
    "\n",
    "    return x_TrI, x_TrL, New_Train_Label, x_TeI, x_TeL, New_Test_Label"
   ]
  },
  {
   "cell_type": "code",
   "execution_count": 84,
   "id": "0a5221e3",
   "metadata": {},
   "outputs": [
    {
     "name": "stdout",
     "output_type": "stream",
     "text": [
      "51124\n",
      "47872\n",
      "Balance of labels :  0.5\n",
      "TEST_SIZE:  4787\n",
      "DONE!\n"
     ]
    }
   ],
   "source": [
    "x_TrI, x_TrL, New_Train_Label, x_TeI, x_TeL, New_Test_Label = create_discrimination_dataset(X_train, Y_train, X_test, Y_test)"
   ]
  },
  {
   "cell_type": "code",
   "execution_count": 85,
   "id": "5c3cc171",
   "metadata": {},
   "outputs": [
    {
     "data": {
      "text/plain": [
       "43085"
      ]
     },
     "execution_count": 85,
     "metadata": {},
     "output_type": "execute_result"
    }
   ],
   "source": [
    "len(New_Train_Label)"
   ]
  },
  {
   "cell_type": "code",
   "execution_count": 86,
   "id": "7dd05350",
   "metadata": {},
   "outputs": [
    {
     "name": "stdout",
     "output_type": "stream",
     "text": [
      "Balance of labels :  0.49998839503307413\n"
     ]
    }
   ],
   "source": [
    "print(\"Balance of labels : \",sum(New_Train_Label)/len(New_Train_Label))"
   ]
  },
  {
   "cell_type": "code",
   "execution_count": 39,
   "id": "e69e1c9f",
   "metadata": {},
   "outputs": [
    {
     "name": "stdout",
     "output_type": "stream",
     "text": [
      "TEST_SIZE:  4787\n"
     ]
    }
   ],
   "source": [
    "TEST_SIZE = int(len(New_Train_Label) / 10)\n",
    "print(\"TEST_SIZE: \", TEST_SIZE)\n",
    "New_Train_Data_i = New_Train_Data_i[0:len(New_Train_Data_i) - TEST_SIZE]\n",
    "New_Train_Data_l = New_Train_Data_l[0:len(New_Train_Data_l) - TEST_SIZE]\n",
    "New_Train_Label = New_Train_Label[0:len(New_Train_Label) - TEST_SIZE]\n",
    "\n",
    "New_Test_Data_i = New_Train_Data_i[(len(New_Train_Data_i) - TEST_SIZE):]\n",
    "New_Test_Data_l = New_Train_Data_l[(len(New_Train_Data_l) - TEST_SIZE):]\n",
    "New_Test_Label = New_Train_Label[(len(New_Train_Label) - TEST_SIZE):]"
   ]
  },
  {
   "cell_type": "code",
   "execution_count": 40,
   "id": "3b6c9ee6",
   "metadata": {},
   "outputs": [
    {
     "name": "stdout",
     "output_type": "stream",
     "text": [
      "DONE!\n"
     ]
    },
    {
     "data": {
      "text/plain": [
       "(43085, 32, 32, 3)"
      ]
     },
     "execution_count": 40,
     "metadata": {},
     "output_type": "execute_result"
    }
   ],
   "source": [
    "x_TrI= np.stack(New_Train_Data_i)\n",
    "x_TrI = np.array(x_TrI)\n",
    "print(\"DONE!\")\n",
    "x_TrI.shape"
   ]
  },
  {
   "cell_type": "code",
   "execution_count": 41,
   "id": "7f03c4e8",
   "metadata": {},
   "outputs": [
    {
     "name": "stdout",
     "output_type": "stream",
     "text": [
      "DONE!\n"
     ]
    },
    {
     "data": {
      "text/plain": [
       "(43085, 1)"
      ]
     },
     "execution_count": 41,
     "metadata": {},
     "output_type": "execute_result"
    }
   ],
   "source": [
    "x_TrL = np.stack(New_Train_Data_l).reshape(len(New_Train_Data_l), 1)\n",
    "x_TrL = np.array(x_TrL)\n",
    "print(\"DONE!\")\n",
    "x_TrL.shape"
   ]
  },
  {
   "cell_type": "code",
   "execution_count": 42,
   "id": "951caaa1",
   "metadata": {},
   "outputs": [
    {
     "name": "stdout",
     "output_type": "stream",
     "text": [
      "DONE!\n"
     ]
    },
    {
     "data": {
      "text/plain": [
       "(4787, 32, 32, 3)"
      ]
     },
     "execution_count": 42,
     "metadata": {},
     "output_type": "execute_result"
    }
   ],
   "source": [
    "x_TeI=np.stack(New_Test_Data_i)\n",
    "x_TeI = np.array(x_TeI)\n",
    "print(\"DONE!\")\n",
    "x_TeI.shape"
   ]
  },
  {
   "cell_type": "code",
   "execution_count": 43,
   "id": "e7ba709e",
   "metadata": {},
   "outputs": [
    {
     "name": "stdout",
     "output_type": "stream",
     "text": [
      "DONE!\n"
     ]
    }
   ],
   "source": [
    "x_TeL = np.stack(New_Test_Data_l).reshape(len(New_Test_Data_l), 1)\n",
    "x_TeL = np.array(x_TeL)\n",
    "print(\"DONE!\")"
   ]
  },
  {
   "cell_type": "code",
   "execution_count": 44,
   "id": "e7aca731",
   "metadata": {},
   "outputs": [
    {
     "name": "stdout",
     "output_type": "stream",
     "text": [
      "DONE!\n"
     ]
    }
   ],
   "source": [
    "# x_TrI, x_TrL=[np.stack(New_Train_Data_i),np.stack(New_Train_Data_l).reshape(len(New_Train_Data_l), 1)]\n",
    "# x_TeI, x_TeL=[np.stack(New_Test_Data_i),np.stack(New_Test_Data_l).reshape(len(New_Test_Data_l), 1)]\n",
    "\n",
    "New_Train_Label = np.array(New_Train_Label)\n",
    "New_Test_Label = np.array(New_Test_Label)\n",
    "print(\"DONE!\")"
   ]
  },
  {
   "cell_type": "code",
   "execution_count": 47,
   "id": "377c9730",
   "metadata": {},
   "outputs": [
    {
     "data": {
      "text/plain": [
       "'discriminator_org_best_using_cnn_classification'"
      ]
     },
     "execution_count": 47,
     "metadata": {},
     "output_type": "execute_result"
    }
   ],
   "source": [
    "import os\n",
    "# training the model for 100 epochs\n",
    "early_stop = EarlyStopping(\n",
    "        monitor='val_accuracy',\n",
    "        patience=8,\n",
    "        mode='auto',\n",
    "    )\n",
    "\n",
    "if not os.path.exists(\"saved_models\"):\n",
    "    os.mkdir(\"saved_models\")\n",
    "cache = f'saved_models/{model_desc}.ckpt'\n",
    "model_desc"
   ]
  },
  {
   "cell_type": "code",
   "execution_count": 49,
   "id": "248c4474",
   "metadata": {},
   "outputs": [
    {
     "name": "stdout",
     "output_type": "stream",
     "text": [
      "Epoch 1/100\n",
      "337/337 [==============================] - 26s 76ms/step - loss: 0.6902 - accuracy: 0.5295 - val_loss: 0.6861 - val_accuracy: 0.5377\n",
      "\n",
      "Epoch 00001: val_accuracy improved from -inf to 0.53771, saving model to saved_models/discriminator_org_best_using_cnn_classification.ckpt\n",
      "Epoch 2/100\n",
      "337/337 [==============================] - 25s 75ms/step - loss: 0.6794 - accuracy: 0.5560 - val_loss: 0.6654 - val_accuracy: 0.5860\n",
      "\n",
      "Epoch 00002: val_accuracy improved from 0.53771 to 0.58596, saving model to saved_models/discriminator_org_best_using_cnn_classification.ckpt\n",
      "Epoch 3/100\n",
      "337/337 [==============================] - 25s 73ms/step - loss: 0.6636 - accuracy: 0.5855 - val_loss: 0.6518 - val_accuracy: 0.6146\n",
      "\n",
      "Epoch 00003: val_accuracy improved from 0.58596 to 0.61458, saving model to saved_models/discriminator_org_best_using_cnn_classification.ckpt\n",
      "Epoch 4/100\n",
      "337/337 [==============================] - 24s 71ms/step - loss: 0.6483 - accuracy: 0.6097 - val_loss: 0.6411 - val_accuracy: 0.6175\n",
      "\n",
      "Epoch 00004: val_accuracy improved from 0.61458 to 0.61751, saving model to saved_models/discriminator_org_best_using_cnn_classification.ckpt\n",
      "Epoch 5/100\n",
      "337/337 [==============================] - 24s 71ms/step - loss: 0.6323 - accuracy: 0.6308 - val_loss: 0.6107 - val_accuracy: 0.6624\n",
      "\n",
      "Epoch 00005: val_accuracy improved from 0.61751 to 0.66242, saving model to saved_models/discriminator_org_best_using_cnn_classification.ckpt\n",
      "Epoch 6/100\n",
      "337/337 [==============================] - 25s 73ms/step - loss: 0.6068 - accuracy: 0.6545 - val_loss: 0.5818 - val_accuracy: 0.6814\n",
      "\n",
      "Epoch 00006: val_accuracy improved from 0.66242 to 0.68143, saving model to saved_models/discriminator_org_best_using_cnn_classification.ckpt\n",
      "Epoch 7/100\n",
      "337/337 [==============================] - 25s 74ms/step - loss: 0.5830 - accuracy: 0.6786 - val_loss: 0.5418 - val_accuracy: 0.7105\n",
      "\n",
      "Epoch 00007: val_accuracy improved from 0.68143 to 0.71047, saving model to saved_models/discriminator_org_best_using_cnn_classification.ckpt\n",
      "Epoch 8/100\n",
      "337/337 [==============================] - 25s 74ms/step - loss: 0.5608 - accuracy: 0.6962 - val_loss: 0.5320 - val_accuracy: 0.7161\n",
      "\n",
      "Epoch 00008: val_accuracy improved from 0.71047 to 0.71611, saving model to saved_models/discriminator_org_best_using_cnn_classification.ckpt\n",
      "Epoch 9/100\n",
      "337/337 [==============================] - 25s 73ms/step - loss: 0.5376 - accuracy: 0.7145 - val_loss: 0.4913 - val_accuracy: 0.7506\n",
      "\n",
      "Epoch 00009: val_accuracy improved from 0.71611 to 0.75057, saving model to saved_models/discriminator_org_best_using_cnn_classification.ckpt\n",
      "Epoch 10/100\n",
      "337/337 [==============================] - 25s 73ms/step - loss: 0.5171 - accuracy: 0.7304 - val_loss: 0.4692 - val_accuracy: 0.7623\n",
      "\n",
      "Epoch 00010: val_accuracy improved from 0.75057 to 0.76227, saving model to saved_models/discriminator_org_best_using_cnn_classification.ckpt\n",
      "Epoch 11/100\n",
      "337/337 [==============================] - 24s 70ms/step - loss: 0.4908 - accuracy: 0.7469 - val_loss: 0.4394 - val_accuracy: 0.7888\n",
      "\n",
      "Epoch 00011: val_accuracy improved from 0.76227 to 0.78880, saving model to saved_models/discriminator_org_best_using_cnn_classification.ckpt\n",
      "Epoch 12/100\n",
      "337/337 [==============================] - 24s 70ms/step - loss: 0.4712 - accuracy: 0.7618 - val_loss: 0.4543 - val_accuracy: 0.7665\n",
      "\n",
      "Epoch 00012: val_accuracy did not improve from 0.78880\n",
      "Epoch 13/100\n",
      "337/337 [==============================] - 24s 71ms/step - loss: 0.4500 - accuracy: 0.7753 - val_loss: 0.3922 - val_accuracy: 0.8293\n",
      "\n",
      "Epoch 00013: val_accuracy improved from 0.78880 to 0.82933, saving model to saved_models/discriminator_org_best_using_cnn_classification.ckpt\n",
      "Epoch 14/100\n",
      "337/337 [==============================] - 24s 71ms/step - loss: 0.4262 - accuracy: 0.7939 - val_loss: 0.3894 - val_accuracy: 0.8247\n",
      "\n",
      "Epoch 00014: val_accuracy did not improve from 0.82933\n",
      "Epoch 15/100\n",
      "337/337 [==============================] - 24s 70ms/step - loss: 0.4129 - accuracy: 0.8011 - val_loss: 0.3627 - val_accuracy: 0.8463\n",
      "\n",
      "Epoch 00015: val_accuracy improved from 0.82933 to 0.84625, saving model to saved_models/discriminator_org_best_using_cnn_classification.ckpt\n",
      "Epoch 16/100\n",
      "337/337 [==============================] - 23s 70ms/step - loss: 0.3919 - accuracy: 0.8153 - val_loss: 0.3328 - val_accuracy: 0.8492\n",
      "\n",
      "Epoch 00016: val_accuracy improved from 0.84625 to 0.84917, saving model to saved_models/discriminator_org_best_using_cnn_classification.ckpt\n",
      "Epoch 17/100\n",
      "337/337 [==============================] - 24s 70ms/step - loss: 0.3742 - accuracy: 0.8259 - val_loss: 0.3139 - val_accuracy: 0.8569\n",
      "\n",
      "Epoch 00017: val_accuracy improved from 0.84917 to 0.85690, saving model to saved_models/discriminator_org_best_using_cnn_classification.ckpt\n",
      "Epoch 18/100\n",
      "337/337 [==============================] - 24s 71ms/step - loss: 0.3529 - accuracy: 0.8397 - val_loss: 0.3007 - val_accuracy: 0.8673\n",
      "\n",
      "Epoch 00018: val_accuracy improved from 0.85690 to 0.86735, saving model to saved_models/discriminator_org_best_using_cnn_classification.ckpt\n",
      "Epoch 19/100\n",
      "337/337 [==============================] - 24s 71ms/step - loss: 0.3386 - accuracy: 0.8476 - val_loss: 0.3035 - val_accuracy: 0.8661\n",
      "\n",
      "Epoch 00019: val_accuracy did not improve from 0.86735\n",
      "Epoch 20/100\n",
      "337/337 [==============================] - 24s 71ms/step - loss: 0.3273 - accuracy: 0.8532 - val_loss: 0.2619 - val_accuracy: 0.8920\n",
      "\n",
      "Epoch 00020: val_accuracy improved from 0.86735 to 0.89200, saving model to saved_models/discriminator_org_best_using_cnn_classification.ckpt\n",
      "Epoch 21/100\n",
      "337/337 [==============================] - 24s 72ms/step - loss: 0.3091 - accuracy: 0.8661 - val_loss: 0.2471 - val_accuracy: 0.8962\n",
      "\n",
      "Epoch 00021: val_accuracy improved from 0.89200 to 0.89618, saving model to saved_models/discriminator_org_best_using_cnn_classification.ckpt\n",
      "Epoch 22/100\n",
      "337/337 [==============================] - 24s 71ms/step - loss: 0.2923 - accuracy: 0.8731 - val_loss: 0.2474 - val_accuracy: 0.9012\n",
      "\n",
      "Epoch 00022: val_accuracy improved from 0.89618 to 0.90119, saving model to saved_models/discriminator_org_best_using_cnn_classification.ckpt\n",
      "Epoch 23/100\n",
      "337/337 [==============================] - 24s 71ms/step - loss: 0.2766 - accuracy: 0.8820 - val_loss: 0.2414 - val_accuracy: 0.8981\n",
      "\n",
      "Epoch 00023: val_accuracy did not improve from 0.90119\n",
      "Epoch 24/100\n",
      "337/337 [==============================] - 24s 70ms/step - loss: 0.2641 - accuracy: 0.8882 - val_loss: 0.2095 - val_accuracy: 0.9169\n",
      "\n",
      "Epoch 00024: val_accuracy improved from 0.90119 to 0.91686, saving model to saved_models/discriminator_org_best_using_cnn_classification.ckpt\n",
      "Epoch 25/100\n",
      "337/337 [==============================] - 24s 70ms/step - loss: 0.2526 - accuracy: 0.8938 - val_loss: 0.2196 - val_accuracy: 0.9162\n",
      "\n",
      "Epoch 00025: val_accuracy did not improve from 0.91686\n",
      "Epoch 26/100\n",
      "337/337 [==============================] - 24s 71ms/step - loss: 0.2484 - accuracy: 0.8944 - val_loss: 0.1887 - val_accuracy: 0.9271\n",
      "\n",
      "Epoch 00026: val_accuracy improved from 0.91686 to 0.92709, saving model to saved_models/discriminator_org_best_using_cnn_classification.ckpt\n",
      "Epoch 27/100\n",
      "337/337 [==============================] - 25s 75ms/step - loss: 0.2319 - accuracy: 0.9025 - val_loss: 0.1678 - val_accuracy: 0.9377\n",
      "\n",
      "Epoch 00027: val_accuracy improved from 0.92709 to 0.93775, saving model to saved_models/discriminator_org_best_using_cnn_classification.ckpt\n",
      "Epoch 28/100\n",
      "337/337 [==============================] - 25s 75ms/step - loss: 0.2252 - accuracy: 0.9081 - val_loss: 0.1751 - val_accuracy: 0.9348\n",
      "\n",
      "Epoch 00028: val_accuracy did not improve from 0.93775\n",
      "Epoch 29/100\n",
      "337/337 [==============================] - 25s 75ms/step - loss: 0.2112 - accuracy: 0.9139 - val_loss: 0.1479 - val_accuracy: 0.9492\n",
      "\n",
      "Epoch 00029: val_accuracy improved from 0.93775 to 0.94924, saving model to saved_models/discriminator_org_best_using_cnn_classification.ckpt\n",
      "Epoch 30/100\n",
      "337/337 [==============================] - 25s 75ms/step - loss: 0.2047 - accuracy: 0.9170 - val_loss: 0.1364 - val_accuracy: 0.9507\n",
      "\n",
      "Epoch 00030: val_accuracy improved from 0.94924 to 0.95070, saving model to saved_models/discriminator_org_best_using_cnn_classification.ckpt\n",
      "Epoch 31/100\n",
      "337/337 [==============================] - 25s 75ms/step - loss: 0.1977 - accuracy: 0.9200 - val_loss: 0.1424 - val_accuracy: 0.9501\n",
      "\n",
      "Epoch 00031: val_accuracy did not improve from 0.95070\n",
      "Epoch 32/100\n",
      "337/337 [==============================] - 25s 76ms/step - loss: 0.1916 - accuracy: 0.9232 - val_loss: 0.1398 - val_accuracy: 0.9509\n",
      "\n",
      "Epoch 00032: val_accuracy improved from 0.95070 to 0.95091, saving model to saved_models/discriminator_org_best_using_cnn_classification.ckpt\n",
      "Epoch 33/100\n",
      "337/337 [==============================] - 25s 75ms/step - loss: 0.1838 - accuracy: 0.9264 - val_loss: 0.1476 - val_accuracy: 0.9436\n",
      "\n",
      "Epoch 00033: val_accuracy did not improve from 0.95091\n",
      "Epoch 34/100\n",
      "337/337 [==============================] - 25s 74ms/step - loss: 0.1841 - accuracy: 0.9266 - val_loss: 0.1358 - val_accuracy: 0.9490\n",
      "\n",
      "Epoch 00034: val_accuracy did not improve from 0.95091\n",
      "Epoch 35/100\n",
      "337/337 [==============================] - 25s 74ms/step - loss: 0.1737 - accuracy: 0.9308 - val_loss: 0.1154 - val_accuracy: 0.9597\n",
      "\n",
      "Epoch 00035: val_accuracy improved from 0.95091 to 0.95968, saving model to saved_models/discriminator_org_best_using_cnn_classification.ckpt\n",
      "Epoch 36/100\n",
      "337/337 [==============================] - 25s 75ms/step - loss: 0.1608 - accuracy: 0.9366 - val_loss: 0.1297 - val_accuracy: 0.9547\n",
      "\n",
      "Epoch 00036: val_accuracy did not improve from 0.95968\n",
      "Epoch 37/100\n",
      "337/337 [==============================] - 25s 74ms/step - loss: 0.1624 - accuracy: 0.9356 - val_loss: 0.1061 - val_accuracy: 0.9618\n",
      "\n",
      "Epoch 00037: val_accuracy improved from 0.95968 to 0.96177, saving model to saved_models/discriminator_org_best_using_cnn_classification.ckpt\n",
      "Epoch 38/100\n",
      "337/337 [==============================] - 25s 74ms/step - loss: 0.1552 - accuracy: 0.9379 - val_loss: 0.1255 - val_accuracy: 0.9538\n",
      "\n",
      "Epoch 00038: val_accuracy did not improve from 0.96177\n",
      "Epoch 39/100\n",
      "337/337 [==============================] - 25s 74ms/step - loss: 0.1517 - accuracy: 0.9412 - val_loss: 0.1136 - val_accuracy: 0.9591\n",
      "\n",
      "Epoch 00039: val_accuracy did not improve from 0.96177\n",
      "Epoch 40/100\n",
      "337/337 [==============================] - 25s 74ms/step - loss: 0.1532 - accuracy: 0.9398 - val_loss: 0.0988 - val_accuracy: 0.9647\n",
      "\n",
      "Epoch 00040: val_accuracy improved from 0.96177 to 0.96470, saving model to saved_models/discriminator_org_best_using_cnn_classification.ckpt\n",
      "Epoch 41/100\n",
      "337/337 [==============================] - 25s 74ms/step - loss: 0.1374 - accuracy: 0.9469 - val_loss: 0.0965 - val_accuracy: 0.9637\n",
      "\n",
      "Epoch 00041: val_accuracy did not improve from 0.96470\n",
      "Epoch 42/100\n",
      "337/337 [==============================] - 25s 74ms/step - loss: 0.1377 - accuracy: 0.9465 - val_loss: 0.0899 - val_accuracy: 0.9687\n",
      "\n",
      "Epoch 00042: val_accuracy improved from 0.96470 to 0.96867, saving model to saved_models/discriminator_org_best_using_cnn_classification.ckpt\n",
      "Epoch 43/100\n",
      "337/337 [==============================] - 25s 75ms/step - loss: 0.1381 - accuracy: 0.9464 - val_loss: 0.0764 - val_accuracy: 0.9735\n",
      "\n",
      "Epoch 00043: val_accuracy improved from 0.96867 to 0.97347, saving model to saved_models/discriminator_org_best_using_cnn_classification.ckpt\n",
      "Epoch 44/100\n",
      "337/337 [==============================] - 25s 74ms/step - loss: 0.1314 - accuracy: 0.9489 - val_loss: 0.0803 - val_accuracy: 0.9720\n",
      "\n",
      "Epoch 00044: val_accuracy did not improve from 0.97347\n",
      "Epoch 45/100\n",
      "337/337 [==============================] - 25s 74ms/step - loss: 0.1347 - accuracy: 0.9478 - val_loss: 0.0672 - val_accuracy: 0.9781\n",
      "\n",
      "Epoch 00045: val_accuracy improved from 0.97347 to 0.97807, saving model to saved_models/discriminator_org_best_using_cnn_classification.ckpt\n",
      "Epoch 46/100\n",
      "337/337 [==============================] - 25s 74ms/step - loss: 0.1192 - accuracy: 0.9543 - val_loss: 0.0687 - val_accuracy: 0.9770\n",
      "\n",
      "Epoch 00046: val_accuracy did not improve from 0.97807\n",
      "Epoch 47/100\n",
      "337/337 [==============================] - 25s 74ms/step - loss: 0.1248 - accuracy: 0.9509 - val_loss: 0.0914 - val_accuracy: 0.9689\n",
      "\n",
      "Epoch 00047: val_accuracy did not improve from 0.97807\n",
      "Epoch 48/100\n",
      "337/337 [==============================] - 25s 74ms/step - loss: 0.1216 - accuracy: 0.9520 - val_loss: 0.0872 - val_accuracy: 0.9680\n",
      "\n",
      "Epoch 00048: val_accuracy did not improve from 0.97807\n",
      "Epoch 49/100\n",
      "337/337 [==============================] - 25s 74ms/step - loss: 0.1125 - accuracy: 0.9580 - val_loss: 0.0929 - val_accuracy: 0.9630\n",
      "\n",
      "Epoch 00049: val_accuracy did not improve from 0.97807\n",
      "Epoch 50/100\n",
      "337/337 [==============================] - 25s 75ms/step - loss: 0.1141 - accuracy: 0.9571 - val_loss: 0.0678 - val_accuracy: 0.9751\n",
      "\n",
      "Epoch 00050: val_accuracy did not improve from 0.97807\n",
      "Epoch 51/100\n",
      "337/337 [==============================] - 25s 74ms/step - loss: 0.1138 - accuracy: 0.9559 - val_loss: 0.0777 - val_accuracy: 0.9726\n",
      "\n",
      "Epoch 00051: val_accuracy did not improve from 0.97807\n",
      "Epoch 52/100\n",
      "337/337 [==============================] - 25s 74ms/step - loss: 0.1153 - accuracy: 0.9569 - val_loss: 0.1006 - val_accuracy: 0.9632\n",
      "\n",
      "Epoch 00052: val_accuracy did not improve from 0.97807\n",
      "Epoch 53/100\n",
      "337/337 [==============================] - 25s 75ms/step - loss: 0.1145 - accuracy: 0.9559 - val_loss: 0.0697 - val_accuracy: 0.9739\n",
      "\n",
      "Epoch 00053: val_accuracy did not improve from 0.97807\n"
     ]
    }
   ],
   "source": [
    "checkpoint = ModelCheckpoint(cache,\n",
    "                                 monitor='val_accuracy',\n",
    "                                 verbose=True,\n",
    "                                 save_best_only=True,\n",
    "                                 save_weights_only=True,\n",
    "                                 mode='max')\n",
    "\n",
    "history = discriminator2.fit([x_TrI, x_TrL], New_Train_Label, batch_size=128,\n",
    "                        epochs=100,\n",
    "                        callbacks=[checkpoint, early_stop],\n",
    "                        validation_data=([x_TeI, x_TeL], New_Test_Label),\n",
    "                        verbose=True)\n",
    "    \n"
   ]
  },
  {
   "cell_type": "code",
   "execution_count": 50,
   "id": "c89cae07",
   "metadata": {},
   "outputs": [
    {
     "data": {
      "text/plain": [
       "<keras.callbacks.History at 0x7fe8ba132ef0>"
      ]
     },
     "execution_count": 50,
     "metadata": {},
     "output_type": "execute_result"
    }
   ],
   "source": [
    "discriminator2.save(f'{model_desc}.h5')\n",
    "history"
   ]
  },
  {
   "cell_type": "code",
   "execution_count": 52,
   "id": "886c46bf",
   "metadata": {},
   "outputs": [
    {
     "data": {
      "image/png": "[encoded data removed]",
      "text/plain": [
       "<Figure size 1800x576 with 1 Axes>"
      ]
     },
     "metadata": {
      "needs_background": "light"
     },
     "output_type": "display_data"
    }
   ],
   "source": [
    "from matplotlib.pyplot import figure\n",
    "def plot_loss(history,train_loss_path='loss',val_loss_path='val_loss'):\n",
    "    figure(figsize=(25, 8))\n",
    "    plt.plot(train_loss_path)\n",
    "    plt.plot(val_loss_path)\n",
    "    plt.title('Model loss')\n",
    "    plt.ylabel('Loss')\n",
    "    plt.xlabel('Epoch')\n",
    "    plt.legend(['Train', 'Validation'], loc='upper right')\n",
    "    plt.show()\n",
    "    \n",
    "plot_loss(history.history, history.history['loss'], history.history['val_loss'])"
   ]
  },
  {
   "cell_type": "code",
   "execution_count": 53,
   "id": "0316d89b",
   "metadata": {},
   "outputs": [
    {
     "data": {
      "text/plain": [
       "array([[2.0745188e-02],\n",
       "       [9.7163689e-01],\n",
       "       [1.7199904e-02],\n",
       "       ...,\n",
       "       [5.1108003e-04],\n",
       "       [9.9998653e-01],\n",
       "       [1.7689914e-02]], dtype=float32)"
      ]
     },
     "execution_count": 53,
     "metadata": {},
     "output_type": "execute_result"
    }
   ],
   "source": [
    "discriminator2.predict([x_TeI,x_TeL])"
   ]
  },
  {
   "cell_type": "code",
   "execution_count": 66,
   "id": "e9cb499b",
   "metadata": {},
   "outputs": [
    {
     "name": "stdout",
     "output_type": "stream",
     "text": [
      "[[1]\n",
      " [9]]\n",
      "[1 0]\n"
     ]
    },
    {
     "data": {
      "text/plain": [
       "array([[9.9968231e-01],\n",
       "       [5.9115887e-04]], dtype=float32)"
      ]
     },
     "execution_count": 66,
     "metadata": {},
     "output_type": "execute_result"
    }
   ],
   "source": [
    "ind = 475\n",
    "s_TrI1= np.stack(x_TrI[ind:ind+2])\n",
    "s_TrI2 = np.array(x_TrL[ind:ind+2])\n",
    "\n",
    "\n",
    "s_TrL = np.array(New_Train_Label[ind:ind+2])\n",
    "# print(s_TrI1)\n",
    "print(s_TrI2)\n",
    "print(s_TrL)\n",
    "discriminator2.predict([s_TrI1,s_TrI2])"
   ]
  },
  {
   "cell_type": "code",
   "execution_count": 67,
   "id": "3c8e9480",
   "metadata": {},
   "outputs": [
    {
     "name": "stdout",
     "output_type": "stream",
     "text": [
      "1 is noise!!!\n",
      "____________\n",
      "automobile 1\n",
      "Lier? :  True  Trut is -  1\n",
      "truck 0\n",
      "Lier? :  False  Trut is -  0\n"
     ]
    },
    {
     "data": {
      "image/png": "[encoded data removed]",
      "text/plain": [
       "<Figure size 432x288 with 1 Axes>"
      ]
     },
     "metadata": {
      "needs_background": "light"
     },
     "output_type": "display_data"
    }
   ],
   "source": [
    "print(\"1 is noise!!!\")\n",
    "print(\"____________\")\n",
    "plt.imshow(s_TrI1[0])\n",
    "print(classess_name[int(s_TrI2[0])], s_TrL[0])\n",
    "print(\"Lier? : \",discriminator2.predict([s_TrI1,s_TrI2])[0][0] > 0.5, \" Trut is - \" ,s_TrL[0])\n",
    "# print(\"____________\")\n",
    "print(classess_name[int(s_TrI2[1])], s_TrL[1])\n",
    "print(\"Lier? : \",discriminator2.predict([s_TrI1,s_TrI2])[1][0] > 0.5, \" Trut is - \" ,s_TrL[1])"
   ]
  },
  {
   "cell_type": "code",
   "execution_count": 2,
   "id": "9769596d",
   "metadata": {},
   "outputs": [
    {
     "name": "stdout",
     "output_type": "stream",
     "text": [
      "Model: \"model_1\"\n",
      "__________________________________________________________________________________________________\n",
      "Layer (type)                    Output Shape         Param #     Connected to                     \n",
      "==================================================================================================\n",
      "image (InputLayer)              [(None, 32, 32, 3)]  0                                            \n",
      "__________________________________________________________________________________________________\n",
      "conv2d_8 (Conv2D)               (None, 32, 32, 32)   896         image[0][0]                      \n",
      "__________________________________________________________________________________________________\n",
      "max_pooling2d_7 (MaxPooling2D)  (None, 16, 16, 32)   0           conv2d_8[0][0]                   \n",
      "__________________________________________________________________________________________________\n",
      "conv2d_9 (Conv2D)               (None, 16, 16, 64)   32832       max_pooling2d_7[0][0]            \n",
      "__________________________________________________________________________________________________\n",
      "max_pooling2d_8 (MaxPooling2D)  (None, 8, 8, 64)     0           conv2d_9[0][0]                   \n",
      "__________________________________________________________________________________________________\n",
      "conv2d_10 (Conv2D)              (None, 8, 8, 64)     65600       max_pooling2d_8[0][0]            \n",
      "__________________________________________________________________________________________________\n",
      "max_pooling2d_9 (MaxPooling2D)  (None, 4, 4, 64)     0           conv2d_10[0][0]                  \n",
      "__________________________________________________________________________________________________\n",
      "conv2d_11 (Conv2D)              (None, 4, 4, 128)    73856       max_pooling2d_9[0][0]            \n",
      "__________________________________________________________________________________________________\n",
      "max_pooling2d_10 (MaxPooling2D) (None, 2, 2, 128)    0           conv2d_11[0][0]                  \n",
      "__________________________________________________________________________________________________\n",
      "conv2d_12 (Conv2D)              (None, 2, 2, 128)    65664       max_pooling2d_10[0][0]           \n",
      "__________________________________________________________________________________________________\n",
      "max_pooling2d_11 (MaxPooling2D) (None, 1, 1, 128)    0           conv2d_12[0][0]                  \n",
      "__________________________________________________________________________________________________\n",
      "dropout_5 (Dropout)             (None, 1, 1, 128)    0           max_pooling2d_11[0][0]           \n",
      "__________________________________________________________________________________________________\n",
      "flatten_3 (Flatten)             (None, 128)          0           dropout_5[0][0]                  \n",
      "__________________________________________________________________________________________________\n",
      "categorical_lbl (InputLayer)    [(None, 1)]          0                                            \n",
      "__________________________________________________________________________________________________\n",
      "dense_9 (Dense)                 (None, 128)          16512       flatten_3[0][0]                  \n",
      "__________________________________________________________________________________________________\n",
      "dense_8 (Dense)                 (None, 8)            16          categorical_lbl[0][0]            \n",
      "__________________________________________________________________________________________________\n",
      "flatten_4 (Flatten)             (None, 128)          0           dense_9[0][0]                    \n",
      "__________________________________________________________________________________________________\n",
      "concatenate_1 (Concatenate)     (None, 136)          0           dense_8[0][0]                    \n",
      "                                                                 flatten_4[0][0]                  \n",
      "__________________________________________________________________________________________________\n",
      "dense_10 (Dense)                (None, 64)           8768        concatenate_1[0][0]              \n",
      "__________________________________________________________________________________________________\n",
      "dense_11 (Dense)                (None, 32)           2080        dense_10[0][0]                   \n",
      "__________________________________________________________________________________________________\n",
      "dense_12 (Dense)                (None, 1)            33          dense_11[0][0]                   \n",
      "==================================================================================================\n",
      "Total params: 266,257\n",
      "Trainable params: 266,257\n",
      "Non-trainable params: 0\n",
      "__________________________________________________________________________________________________\n"
     ]
    }
   ],
   "source": [
    "from keras.models import load_model\n",
    "from pickle import dump, load\n",
    "\n",
    "#creates a HDF5 file 'cnn_classifier.h5'\n",
    "discriminator = load_model('discriminator_org_best_using_cnn_classification.h5')  \n",
    "discriminator.summary()"
   ]
  },
  {
   "cell_type": "code",
   "execution_count": 3,
   "id": "83707c7e",
   "metadata": {},
   "outputs": [],
   "source": []
  },
  {
   "cell_type": "code",
   "execution_count": 2,
   "id": "40ab104c",
   "metadata": {},
   "outputs": [
    {
     "name": "stdout",
     "output_type": "stream",
     "text": [
      "____________\n",
      "____________\n",
      "____________\n",
      "              precision    recall  f1-score   support\n",
      "\n",
      "  good label       0.26      0.67      0.37     10000\n",
      "    Outlier!       0.96      0.79      0.86     90000\n",
      "\n",
      "    accuracy                           0.78    100000\n",
      "   macro avg       0.61      0.73      0.62    100000\n",
      "weighted avg       0.89      0.78      0.81    100000\n",
      "\n"
     ]
    },
    {
     "data": {
      "image/png": "[encoded data removed]",
      "text/plain": [
       "<Figure size 432x288 with 2 Axes>"
      ]
     },
     "metadata": {
      "needs_background": "light"
     },
     "output_type": "display_data"
    }
   ],
   "source": [
    "from sklearn.metrics import confusion_matrix, ConfusionMatrixDisplay, classification_report, plot_roc_curve\n",
    "from keras.models import load_model\n",
    "from pickle import dump, load\n",
    "\n",
    "\n",
    "discriminator = load_model('discriminator_org_best_using_cnn_classification.h5')  \n",
    "Y_test = [list(p).index(max(p)) for p in Y_test]\n",
    "\n",
    "test_Data_i = []\n",
    "test_Data_l = []\n",
    "test_Label = []\n",
    "\n",
    "for i, data in enumerate(X_test):\n",
    "    x_org = tf.stack(data)\n",
    "    y_clean =  Y_test[i]\n",
    "    test_Data_i.append(x_org)\n",
    "    test_Data_l.append(y_clean)\n",
    "    test_Label.append(0)\n",
    "    for noise_l in range(0,10):\n",
    "        if noise_l != y_clean:\n",
    "            # balance with-:  \n",
    "            test_Label.append(1)\n",
    "            test_Data_i.append(x_org)\n",
    "            test_Data_l.append(noise_l)\n",
    "\n",
    "print(\"____________\")\n",
    "test_Data_i= np.stack(test_Data_i)\n",
    "test_Data_i = np.array(test_Data_i)\n",
    "\n",
    "test_Data_l = np.stack(test_Data_l).reshape(len(test_Data_l), 1)\n",
    "test_Data_l = np.array(test_Data_l)\n",
    "test_Label = np.array(test_Label)\n",
    "print(\"____________\")\n",
    "new_preds = discriminator.predict([test_Data_i,test_Data_l])\n",
    "new_preds = [o[0] for o in new_preds]\n",
    "new_preds = [1 if i > 0.5 else 0 for i in new_preds]\n",
    "print(\"____________\")\n",
    "labels = [0, 1]\n",
    "cm = confusion_matrix(list(test_Label), new_preds, labels=labels)\n",
    "disp = ConfusionMatrixDisplay(confusion_matrix=cm, display_labels=labels)\n",
    "disp.plot()\n",
    "\n",
    "target_names = ['good label', 'Outlier!']\n",
    "print(classification_report(test_Label, new_preds, target_names=target_names))"
   ]
  },
  {
   "cell_type": "code",
   "execution_count": 3,
   "id": "fba2d157",
   "metadata": {},
   "outputs": [
    {
     "data": {
      "text/plain": [
       "0.74197"
      ]
     },
     "execution_count": 3,
     "metadata": {},
     "output_type": "execute_result"
    }
   ],
   "source": [
    "sum(new_preds)/len(new_preds)"
   ]
  },
  {
   "cell_type": "code",
   "execution_count": null,
   "id": "ec09a35a",
   "metadata": {},
   "outputs": [],
   "source": []
  }
 ],
 "metadata": {
  "kernelspec": {
   "display_name": "conda_pytorch_p36",
   "language": "python",
   "name": "conda_pytorch_p36"
  },
  "language_info": {
   "codemirror_mode": {
    "name": "ipython",
    "version": 3
   },
   "file_extension": ".py",
   "mimetype": "text/x-python",
   "name": "python",
   "nbconvert_exporter": "python",
   "pygments_lexer": "ipython3",
   "version": "3.6.13"
  }
 },
 "nbformat": 4,
 "nbformat_minor": 5
}
